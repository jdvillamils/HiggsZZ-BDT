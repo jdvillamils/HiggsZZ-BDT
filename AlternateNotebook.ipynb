{
 "cells": [
  {
   "cell_type": "code",
   "execution_count": 1,
   "id": "d9b2e8b7",
   "metadata": {},
   "outputs": [],
   "source": [
    "#include <iostream>\n",
    "#include <string>\n",
    "#include <stdio.h>"
   ]
  },
  {
   "cell_type": "markdown",
   "id": "bb38378a",
   "metadata": {},
   "source": [
    "%jsroot on"
   ]
  },
  {
   "cell_type": "code",
   "execution_count": 20,
   "id": "8e41c553",
   "metadata": {},
   "outputs": [],
   "source": [
    "TFile *file = TFile::Open(\"RootFiles/DataTest.root\"); "
   ]
  },
  {
   "cell_type": "code",
   "execution_count": 21,
   "id": "10eeb999",
   "metadata": {},
   "outputs": [],
   "source": [
    "TTree *tree = (TTree*) file->Get(\"Signal\");\n",
    "TTree *bree = (TTree*) file->Get(\"Background\");"
   ]
  },
  {
   "cell_type": "code",
   "execution_count": 25,
   "id": "b5e7a6bd",
   "metadata": {},
   "outputs": [],
   "source": [
    "Float_t fourm;\n",
    "Float_t weight;\n",
    "Float_t fourmb;\n",
    "Float_t weightb;\n",
    "tree->SetBranchAddress(\"FourLepSystemM\", &fourm);\n",
    "tree->SetBranchAddress(\"Weight\", &weight);\n",
    "bree->SetBranchAddress(\"FourLepSystemM\", &fourmb);\n",
    "bree->SetBranchAddress(\"Weight\", &weightb);"
   ]
  },
  {
   "cell_type": "code",
   "execution_count": 50,
   "id": "bf0cfecb",
   "metadata": {},
   "outputs": [
    {
     "name": "stderr",
     "output_type": "stream",
     "text": [
      "Warning in <TCanvas::Constructor>: Deleting canvas with same name: Canvas\n",
      "Warning in <TFile::Append>: Replacing existing TH1: variable (Potential memory leak).\n",
      "Warning in <TFile::Append>: Replacing existing TH1: variable (Potential memory leak).\n"
     ]
    }
   ],
   "source": [
    "TCanvas *canvas = new TCanvas(\"Canvas\",\"a first way to plot a variable\",800,600);\n",
    "TH1F *hist = new TH1F(\"variable\",\"Example plot: Number of leptons; Number of leptons ; Events \",200,0,500);\n",
    "TH1F *hist1 = new TH1F(\"variable\",\"Example plot: Number of leptons; Number of leptons ; Events \",200,0,500);\n",
    "\n",
    "int nentries, nbytes, i;\n",
    "nentries = (Int_t)tree->GetEntries();\n",
    "for (i = 0; i < nentries; i++)\n",
    "{\n",
    "    \n",
    "    nbytes = tree->GetEntry(i);\n",
    "    hist->Fill(fourm);\n",
    "}\n",
    "\n",
    "int nentriesb, nbytesb, ib;\n",
    "nentriesb = (Int_t)bree->GetEntries();\n",
    "for (ib = 0; ib < nentriesb; ib++)\n",
    "{\n",
    "    nbytesb = bree->GetEntry(ib);\n",
    "    hist1->Fill(fourmb);\n",
    "}\n"
   ]
  },
  {
   "cell_type": "code",
   "execution_count": 51,
   "id": "af935343",
   "metadata": {},
   "outputs": [
    {
     "data": {
      "image/png": "[encoded data removed]",
      "text/plain": [
       "<IPython.core.display.Image object>"
      ]
     },
     "metadata": {},
     "output_type": "display_data"
    }
   ],
   "source": [
    "hist->SetFillColor(kRed);\n",
    "hist1->SetFillColor(kBlue);\n",
    "hist->Draw();\n",
    "hist1->Draw(\"same\");\n",
    "canvas->Draw();"
   ]
  }
 ],
 "metadata": {
  "kernelspec": {
   "display_name": "ROOT C++",
   "language": "c++",
   "name": "root"
  },
  "language_info": {
   "codemirror_mode": "text/x-c++src",
   "file_extension": ".C",
   "mimetype": " text/x-c++src",
   "name": "c++"
  }
 },
 "nbformat": 4,
 "nbformat_minor": 5
}
